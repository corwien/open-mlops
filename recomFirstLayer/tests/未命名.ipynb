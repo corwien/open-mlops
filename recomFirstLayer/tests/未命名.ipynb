{
 "cells": [
  {
   "cell_type": "code",
   "execution_count": 3,
   "id": "40901897-bf5b-410c-aba7-251f59dafe6a",
   "metadata": {},
   "outputs": [],
   "source": [
    "from prod_reco.lightfm_dataset_helper import DatasetHelper\n"
   ]
  },
  {
   "cell_type": "code",
   "execution_count": null,
   "id": "f0600953-c081-4cc6-bda2-ebc842041d25",
   "metadata": {},
   "outputs": [],
   "source": []
  }
 ],
 "metadata": {
  "kernelspec": {
   "display_name": "Python 3",
   "language": "python",
   "name": "python3"
  },
  "language_info": {
   "codemirror_mode": {
    "name": "ipython",
    "version": 3
   },
   "file_extension": ".py",
   "mimetype": "text/x-python",
   "name": "python",
   "nbconvert_exporter": "python",
   "pygments_lexer": "ipython3",
   "version": "3.8.12"
  }
 },
 "nbformat": 4,
 "nbformat_minor": 5
}
