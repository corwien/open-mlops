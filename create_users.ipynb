{
 "cells": [
  {
   "cell_type": "code",
   "execution_count": 7,
   "id": "3995b225-baa7-49a6-b53a-fd8b9df349c4",
   "metadata": {},
   "outputs": [],
   "source": [
    "from backend.server.models.models import  SUsers\n",
    "from backend.server.models import database\n",
    "from backend.server.routes import path_to_local_sqlite_uri\n",
    "import os"
   ]
  },
  {
   "cell_type": "code",
   "execution_count": 9,
   "id": "7f7b2498-c18b-454d-a464-55bff7120c65",
   "metadata": {},
   "outputs": [],
   "source": [
    "defa_db_uri = path_to_local_sqlite_uri(\"/Users/leepand/Downloads/codes/checkpoint.db\")\n",
    "sys_db_uri = os.environ.get(\"DATABASE_URL\", defa_db_uri)\n",
    "sql_db=database.SysModelInit(sys_db_uri)"
   ]
  },
  {
   "cell_type": "code",
   "execution_count": 10,
   "id": "ba588f67-2ead-49ab-97be-5c3cb6553937",
   "metadata": {},
   "outputs": [],
   "source": [
    "import datetime\n",
    "obj = SUsers(name=\"leepand\",mobile=\"13370151381\",\n",
    "             password=\"123\",\n",
    "             email = 'pandeng.li@163.com',\n",
    "             creation_date=datetime.datetime.utcnow())"
   ]
  },
  {
   "cell_type": "code",
   "execution_count": 11,
   "id": "e3749b6c-c341-48c0-a025-69e0bee99d42",
   "metadata": {},
   "outputs": [
    {
     "name": "stdout",
     "output_type": "stream",
     "text": [
      "2022-06-28 14:43.42 [debug    ] Creating session for %s        db_uri=sqlite:////Users/leepand/Downloads/codes/checkpoint.db\n",
      "2022-06-28 14:43.42 [debug    ] Inserting object %s            query=<backend.server.models.models.SUsers object at 0x106cea880>\n"
     ]
    },
    {
     "data": {
      "text/plain": [
       "<backend.server.models.models.SUsers at 0x106cea880>"
      ]
     },
     "execution_count": 11,
     "metadata": {},
     "output_type": "execute_result"
    }
   ],
   "source": [
    "sql_db._create_object(obj)"
   ]
  },
  {
   "cell_type": "code",
   "execution_count": null,
   "id": "add619ed-aada-43f8-baab-a04de2689965",
   "metadata": {},
   "outputs": [],
   "source": []
  }
 ],
 "metadata": {
  "kernelspec": {
   "display_name": "Python 3 (ipykernel)",
   "language": "python",
   "name": "python3"
  },
  "language_info": {
   "codemirror_mode": {
    "name": "ipython",
    "version": 3
   },
   "file_extension": ".py",
   "mimetype": "text/x-python",
   "name": "python",
   "nbconvert_exporter": "python",
   "pygments_lexer": "ipython3",
   "version": "3.8.11"
  }
 },
 "nbformat": 4,
 "nbformat_minor": 5
}
